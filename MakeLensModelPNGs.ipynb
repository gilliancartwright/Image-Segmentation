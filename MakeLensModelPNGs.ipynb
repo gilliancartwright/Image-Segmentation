{
 "cells": [
  {
   "cell_type": "markdown",
   "id": "cadcc811-0984-4e29-b153-4d1f77d21c21",
   "metadata": {},
   "source": [
    "This notebook takes the output from the lens modeling script as it is saved in OSG and compiles it. The output is a single png image per candidate. The output folder is called \"summarized_models\", and the current input directory is called \"all_models/good_models\"."
   ]
  },
  {
   "cell_type": "code",
   "execution_count": 1,
   "id": "b9ff39d1-6c68-4f2a-9d4b-41232ae28119",
   "metadata": {},
   "outputs": [],
   "source": [
    "import os\n",
    "import re\n",
    "import matplotlib.pyplot as plt\n",
    "from matplotlib import gridspec\n",
    "from PIL import Image\n",
    "from tqdm import tqdm"
   ]
  },
  {
   "cell_type": "code",
   "execution_count": 8,
   "id": "3161bf19-36bf-452c-9678-e772d0d8d412",
   "metadata": {},
   "outputs": [],
   "source": [
    "\"\"\"\n",
    "structure of output from OSG: \n",
    "- base path\n",
    "    - ID\n",
    "        - corner plot: ID_corner.png\n",
    "        - image, residuals, & magnification: ID_model.png\n",
    "        - MCMC chain trace plot: ID_TracePlot.png\n",
    "        - parameter data: ID.txt\n",
    "\"\"\"\n",
    "# set current directory name\n",
    "curr_dir = os.getcwd()\n",
    "\n",
    "# make directory to store outputs in\n",
    "output_dir = os.path.join(curr_dir, 'summarized_models')  # set output directory name\n",
    "if not os.path.exists(output_dir):\n",
    "    os.mkdir(output_dir)\n",
    "\n",
    "# set base path for data\n",
    "base_path = os.path.join(curr_dir, 'all_models', 'good_models')  # set input directory\n",
    "\n",
    "# get list of all directories (IDs)\n",
    "directories = list(os.listdir(base_path))\n",
    "for d in directories:\n",
    "    if d.startswith(\".\"):\n",
    "        directories.remove(d)\n",
    "\n"
   ]
  },
  {
   "cell_type": "code",
   "execution_count": 9,
   "id": "d9ab0586-8eb5-4b16-a2e0-7ac2b94e98c6",
   "metadata": {},
   "outputs": [
    {
     "name": "stderr",
     "output_type": "stream",
     "text": [
      "100%|███████████████████████████████████████████████████| 931/931 [26:37<00:00,  1.72s/it]\n"
     ]
    }
   ],
   "source": [
    "for ID in tqdm(directories):\n",
    "    # reading image data\n",
    "    corner_plot = Image.open(os.path.join(base_path, ID, ID+'_corner.png'))\n",
    "    img = Image.open(os.path.join(base_path, ID, ID+'_model.png'))\n",
    "    # trace = Image.open(os.path.join(base_path, ID, ID+'_TracePlot.png'))\n",
    "    \n",
    "    # reading text data\n",
    "    f = open(os.path.join(base_path, ID, ID+'.txt'), 'r')\n",
    "    lines = f.readlines()\n",
    "    f.close()\n",
    "    \n",
    "    # get the reduced X^2 value and Einstein Rad.\n",
    "    for line in lines:\n",
    "        if line.startswith('Reduced X^2 of all data:'):\n",
    "            chi_squared = round(float(re.findall(r'\\d+\\.\\d+', line)[0]), 2)\n",
    "            \n",
    "        elif line.startswith('theta_E_lens0:'):\n",
    "            theta_E = round(float(re.findall(r'\\d+\\.\\d+', line)[0]), 2)\n",
    "    \n",
    "    plot_text = f'Einstein Radius: {theta_E}\\nReduced X^2: {chi_squared}' \n",
    "     \n",
    "    # create a figure\n",
    "    fig = plt.figure()\n",
    "    fig.set_figheight(10)\n",
    "    fig.set_figwidth(20)\n",
    "\n",
    "    # create grid for different subplots\n",
    "    spec = gridspec.GridSpec(ncols=2, nrows=1,\n",
    "                             width_ratios=[1, 1], wspace=0.0)\n",
    "    \n",
    "    ax0 = fig.add_subplot(spec[0])\n",
    "    ax0.imshow(img)\n",
    "    ax0.axis(\"off\")\n",
    "    \n",
    "    \n",
    "    ax1 = fig.add_subplot(spec[1])\n",
    "    ax1.imshow(corner_plot)\n",
    "    ax1.axis(\"off\")\n",
    "    ax1.text(1500, 200, plot_text, fontsize=18, bbox={\n",
    "             'facecolor': 'grey', 'alpha': 0.5, 'pad': 10})\n",
    "    \n",
    "    # ax2 = fig.add_subplot(spec[2])\n",
    "    # ax2.imshow(trace)\n",
    "    # ax2.axis(\"off\")\n",
    "    \n",
    "    # save the plots\n",
    "    plt.tight_layout()\n",
    "    plt.savefig(os.path.join(output_dir, ID+'.png'), format='png')\n",
    "    # plt.show()\n",
    "    plt.close()"
   ]
  },
  {
   "cell_type": "code",
   "execution_count": null,
   "id": "742fd85c-5000-43ee-a17e-886c152df344",
   "metadata": {},
   "outputs": [],
   "source": []
  }
 ],
 "metadata": {
  "kernelspec": {
   "display_name": "Python 3 (ipykernel)",
   "language": "python",
   "name": "python3"
  },
  "language_info": {
   "codemirror_mode": {
    "name": "ipython",
    "version": 3
   },
   "file_extension": ".py",
   "mimetype": "text/x-python",
   "name": "python",
   "nbconvert_exporter": "python",
   "pygments_lexer": "ipython3",
   "version": "3.11.5"
  }
 },
 "nbformat": 4,
 "nbformat_minor": 5
}
